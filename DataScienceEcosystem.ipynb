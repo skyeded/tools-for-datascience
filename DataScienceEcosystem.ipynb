{
 "cells": [
  {
   "cell_type": "markdown",
   "id": "c3ce1e34-95e2-4d3d-a6d5-e80c4fdbc802",
   "metadata": {},
   "source": [
    "# Data Science Tools and Ecosystem"
   ]
  },
  {
   "cell_type": "markdown",
   "id": "6015ea55-0762-4f6b-9e5b-51f6556d06d0",
   "metadata": {},
   "source": [
    "In this notebook, Data Science Tools and Ecosystem are summarized."
   ]
  },
  {
   "cell_type": "markdown",
   "id": "b56a1cba-4c68-429e-8696-e854d75b3091",
   "metadata": {},
   "source": [
    "Some of the popular languages that Data Scientists use are:\n",
    "1. Python\n",
    "2. R\n",
    "3. SQL\n",
    "4. Java"
   ]
  },
  {
   "cell_type": "markdown",
   "id": "15d1250c-eb7c-4070-8e8b-e7b21ba1f4d1",
   "metadata": {},
   "source": [
    "Some of the commonly used libraries used by Data Scientist include:\n",
    "1. Scikit-Learn\n",
    "2. TensorFlow\n",
    "3. Pandas\n",
    "4. Numpy\n",
    "5. Seaborn\n",
    "6. Matplotlib"
   ]
  },
  {
   "cell_type": "markdown",
   "id": "ba51af73-62bc-473d-b152-dc0283a39e2f",
   "metadata": {},
   "source": [
    "|Data Science Tools|\n",
    "|------------------|\n",
    "|HDFS|\n",
    "|Github|\n",
    "|Microsoft Visual Studio Code|"
   ]
  },
  {
   "cell_type": "markdown",
   "id": "437da31e-4f4d-4dee-a9f7-0b4f7642540d",
   "metadata": {},
   "source": [
    "### Below are a few examples of evaluating arithmetic expressions in Python"
   ]
  },
  {
   "cell_type": "code",
   "execution_count": 3,
   "id": "a57a29e3-a9ef-44e8-a60a-e1bef06cd908",
   "metadata": {
    "tags": []
   },
   "outputs": [
    {
     "data": {
      "text/plain": [
       "17"
      ]
     },
     "execution_count": 3,
     "metadata": {},
     "output_type": "execute_result"
    }
   ],
   "source": [
    "# This is a simple airthmetic expression to multiply then add integers\n",
    "(3*4)+5"
   ]
  },
  {
   "cell_type": "code",
   "execution_count": 4,
   "id": "b8af5ad3-2d27-4769-a708-e9d1e57bb694",
   "metadata": {
    "tags": []
   },
   "outputs": [
    {
     "data": {
      "text/plain": [
       "3.3333333333333335"
      ]
     },
     "execution_count": 4,
     "metadata": {},
     "output_type": "execute_result"
    }
   ],
   "source": [
    "# This will convert 200 minutes to hours by dividing by 60\n",
    "200/60"
   ]
  },
  {
   "cell_type": "markdown",
   "id": "9c58e504-167a-4a35-980e-cf50a617bd69",
   "metadata": {},
   "source": [
    "__Objectives:__\n",
    "+ List popular languages for Data Science\n",
    "+ List commonly used libraries in Data Science\n",
    "+ List some of the open source tools in Data Science\n",
    "+ Evaluate arithmetic expressions"
   ]
  },
  {
   "cell_type": "markdown",
   "id": "6417b157-b7a8-46f0-ad75-532af9a8e55f",
   "metadata": {},
   "source": [
    "## Author\n",
    "Arnuparp Cheammarerng"
   ]
  },
  {
   "cell_type": "code",
   "execution_count": null,
   "id": "520d6210-3411-47cf-8613-504039dcf4b0",
   "metadata": {},
   "outputs": [],
   "source": []
  }
 ],
 "metadata": {
  "kernelspec": {
   "display_name": "Python",
   "language": "python",
   "name": "conda-env-python-py"
  },
  "language_info": {
   "codemirror_mode": {
    "name": "ipython",
    "version": 3
   },
   "file_extension": ".py",
   "mimetype": "text/x-python",
   "name": "python",
   "nbconvert_exporter": "python",
   "pygments_lexer": "ipython3",
   "version": "3.7.12"
  }
 },
 "nbformat": 4,
 "nbformat_minor": 5
}
